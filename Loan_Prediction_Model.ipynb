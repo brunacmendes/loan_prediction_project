{
  "nbformat": 4,
  "nbformat_minor": 0,
  "metadata": {
    "kernelspec": {
      "name": "python3",
      "display_name": "Python 3"
    },
    "language_info": {
      "codemirror_mode": {
        "name": "ipython",
        "version": 3
      },
      "file_extension": ".py",
      "mimetype": "text/x-python",
      "name": "python",
      "nbconvert_exporter": "python",
      "pygments_lexer": "ipython3",
      "version": "3.6.5"
    },
    "colab": {
      "name": "Loan_Prediction_Model.ipynb",
      "provenance": [],
      "collapsed_sections": [],
      "include_colab_link": true
    },
    "accelerator": "GPU"
  },
  "cells": [
    {
      "cell_type": "markdown",
      "metadata": {
        "id": "view-in-github",
        "colab_type": "text"
      },
      "source": [
        "<a href=\"https://colab.research.google.com/github/brunacmendes/loan_prediction_project/blob/main/Loan_Prediction_Model.ipynb\" target=\"_parent\"><img src=\"https://colab.research.google.com/assets/colab-badge.svg\" alt=\"Open In Colab\"/></a>"
      ]
    },
    {
      "cell_type": "markdown",
      "metadata": {
        "id": "eshq6g37PquU"
      },
      "source": [
        "# Loan Prediction Problem\n",
        "\n",
        "The Company wants to automate the loan eligibility process based on customer detail in the dataset. It's a classification problem, given information about the application we have to predict whether the they'll be able to pay the loan or not.\n",
        "\n",
        "\n"
      ]
    },
    {
      "cell_type": "code",
      "metadata": {
        "id": "N1174ZAOqvyo",
        "colab": {
          "base_uri": "https://localhost:8080/"
        },
        "outputId": "133f7c14-1545-468c-c3eb-27d0e7062de0"
      },
      "source": [
        "%tensorflow_version 1.x"
      ],
      "execution_count": 1,
      "outputs": [
        {
          "output_type": "stream",
          "text": [
            "TensorFlow 1.x selected.\n"
          ],
          "name": "stdout"
        }
      ]
    },
    {
      "cell_type": "markdown",
      "metadata": {
        "id": "WjKX7h16glKA"
      },
      "source": [
        "### The problem will be solved using Neural Network with Keras.\n",
        "\n",
        "Here are the steps to solve it:\n",
        "\n",
        "<ol>1. Loading the dataset</ol>\n",
        "<ol>2. Creating training and validation set</ol>\n",
        "<ol>3. Defining the architecture of the model</ol>\n",
        "<ol>4. Compiling the model (defining loss function, optimizer)</ol>\n",
        "<ol>5. Training the model</ol>\n",
        "<ol>6. Evaluating model performance on training and validation set</ol>"
      ]
    },
    {
      "cell_type": "markdown",
      "metadata": {
        "id": "56f3bnnIglKI"
      },
      "source": [
        "## 1. Loading the dataset"
      ]
    },
    {
      "cell_type": "code",
      "metadata": {
        "id": "as3tljzfglKN"
      },
      "source": [
        "# importing the required libraries\n",
        "import pandas as pd\n",
        "import numpy as np\n",
        "import sklearn\n",
        "from sklearn.model_selection import train_test_split\n",
        "from sklearn.metrics import accuracy_score\n",
        "import matplotlib.pyplot as plt\n",
        "%matplotlib inline"
      ],
      "execution_count": 2,
      "outputs": []
    },
    {
      "cell_type": "code",
      "metadata": {
        "id": "Bzp09t1S_07z",
        "colab": {
          "base_uri": "https://localhost:8080/"
        },
        "outputId": "f1036e08-a4ac-48dc-c00d-35d7e3b3d79a"
      },
      "source": [
        "# check version on sklearn\n",
        "print('Version of sklearn:', sklearn.__version__)"
      ],
      "execution_count": 3,
      "outputs": [
        {
          "output_type": "stream",
          "text": [
            "Version of sklearn: 0.22.2.post1\n"
          ],
          "name": "stdout"
        }
      ]
    },
    {
      "cell_type": "code",
      "metadata": {
        "id": "UXQcz5rtglKe"
      },
      "source": [
        "# loading the pre-processed dataset\n",
        "data = pd.read_csv('loan_prediction_data.csv')"
      ],
      "execution_count": 10,
      "outputs": []
    },
    {
      "cell_type": "code",
      "metadata": {
        "scrolled": false,
        "id": "ntuq8jfzglKp",
        "colab": {
          "base_uri": "https://localhost:8080/",
          "height": 224
        },
        "outputId": "b97cdb5c-590b-4c89-e05f-05f67b7cb3d9"
      },
      "source": [
        "# looking at the first five rows of the dataset\n",
        "data.head()"
      ],
      "execution_count": 5,
      "outputs": [
        {
          "output_type": "execute_result",
          "data": {
            "text/html": [
              "<div>\n",
              "<style scoped>\n",
              "    .dataframe tbody tr th:only-of-type {\n",
              "        vertical-align: middle;\n",
              "    }\n",
              "\n",
              "    .dataframe tbody tr th {\n",
              "        vertical-align: top;\n",
              "    }\n",
              "\n",
              "    .dataframe thead th {\n",
              "        text-align: right;\n",
              "    }\n",
              "</style>\n",
              "<table border=\"1\" class=\"dataframe\">\n",
              "  <thead>\n",
              "    <tr style=\"text-align: right;\">\n",
              "      <th></th>\n",
              "      <th>Loan_ID</th>\n",
              "      <th>Gender</th>\n",
              "      <th>Married</th>\n",
              "      <th>Dependents</th>\n",
              "      <th>Education</th>\n",
              "      <th>Self_Employed</th>\n",
              "      <th>ApplicantIncome</th>\n",
              "      <th>CoapplicantIncome</th>\n",
              "      <th>LoanAmount</th>\n",
              "      <th>Loan_Amount_Term</th>\n",
              "      <th>Credit_History</th>\n",
              "      <th>Property_Area</th>\n",
              "      <th>Loan_Status</th>\n",
              "    </tr>\n",
              "  </thead>\n",
              "  <tbody>\n",
              "    <tr>\n",
              "      <th>0</th>\n",
              "      <td>LP001002</td>\n",
              "      <td>0.0</td>\n",
              "      <td>0.0</td>\n",
              "      <td>0.000000</td>\n",
              "      <td>1.0</td>\n",
              "      <td>0.0</td>\n",
              "      <td>0.070489</td>\n",
              "      <td>0.000000</td>\n",
              "      <td>0.198860</td>\n",
              "      <td>0.74359</td>\n",
              "      <td>1.0</td>\n",
              "      <td>1.0</td>\n",
              "      <td>1.0</td>\n",
              "    </tr>\n",
              "    <tr>\n",
              "      <th>1</th>\n",
              "      <td>LP001003</td>\n",
              "      <td>0.0</td>\n",
              "      <td>1.0</td>\n",
              "      <td>0.333333</td>\n",
              "      <td>1.0</td>\n",
              "      <td>0.0</td>\n",
              "      <td>0.054830</td>\n",
              "      <td>0.036192</td>\n",
              "      <td>0.172214</td>\n",
              "      <td>0.74359</td>\n",
              "      <td>1.0</td>\n",
              "      <td>0.0</td>\n",
              "      <td>0.0</td>\n",
              "    </tr>\n",
              "    <tr>\n",
              "      <th>2</th>\n",
              "      <td>LP001005</td>\n",
              "      <td>0.0</td>\n",
              "      <td>1.0</td>\n",
              "      <td>0.000000</td>\n",
              "      <td>1.0</td>\n",
              "      <td>1.0</td>\n",
              "      <td>0.035250</td>\n",
              "      <td>0.000000</td>\n",
              "      <td>0.082489</td>\n",
              "      <td>0.74359</td>\n",
              "      <td>1.0</td>\n",
              "      <td>1.0</td>\n",
              "      <td>1.0</td>\n",
              "    </tr>\n",
              "    <tr>\n",
              "      <th>3</th>\n",
              "      <td>LP001006</td>\n",
              "      <td>0.0</td>\n",
              "      <td>1.0</td>\n",
              "      <td>0.000000</td>\n",
              "      <td>0.0</td>\n",
              "      <td>0.0</td>\n",
              "      <td>0.030093</td>\n",
              "      <td>0.056592</td>\n",
              "      <td>0.160637</td>\n",
              "      <td>0.74359</td>\n",
              "      <td>1.0</td>\n",
              "      <td>1.0</td>\n",
              "      <td>1.0</td>\n",
              "    </tr>\n",
              "    <tr>\n",
              "      <th>4</th>\n",
              "      <td>LP001008</td>\n",
              "      <td>0.0</td>\n",
              "      <td>0.0</td>\n",
              "      <td>0.000000</td>\n",
              "      <td>1.0</td>\n",
              "      <td>0.0</td>\n",
              "      <td>0.072356</td>\n",
              "      <td>0.000000</td>\n",
              "      <td>0.191027</td>\n",
              "      <td>0.74359</td>\n",
              "      <td>1.0</td>\n",
              "      <td>1.0</td>\n",
              "      <td>1.0</td>\n",
              "    </tr>\n",
              "  </tbody>\n",
              "</table>\n",
              "</div>"
            ],
            "text/plain": [
              "    Loan_ID  Gender  Married  ...  Credit_History  Property_Area  Loan_Status\n",
              "0  LP001002     0.0      0.0  ...             1.0            1.0          1.0\n",
              "1  LP001003     0.0      1.0  ...             1.0            0.0          0.0\n",
              "2  LP001005     0.0      1.0  ...             1.0            1.0          1.0\n",
              "3  LP001006     0.0      1.0  ...             1.0            1.0          1.0\n",
              "4  LP001008     0.0      0.0  ...             1.0            1.0          1.0\n",
              "\n",
              "[5 rows x 13 columns]"
            ]
          },
          "metadata": {
            "tags": []
          },
          "execution_count": 5
        }
      ]
    },
    {
      "cell_type": "code",
      "metadata": {
        "id": "2iqbEhkaglK0",
        "colab": {
          "base_uri": "https://localhost:8080/"
        },
        "outputId": "41321601-2025-4c75-a8ef-14a7e01e8ebf"
      },
      "source": [
        "# checking missing values\n",
        "data.isnull().sum()"
      ],
      "execution_count": 6,
      "outputs": [
        {
          "output_type": "execute_result",
          "data": {
            "text/plain": [
              "Loan_ID              0\n",
              "Gender               0\n",
              "Married              0\n",
              "Dependents           0\n",
              "Education            0\n",
              "Self_Employed        0\n",
              "ApplicantIncome      0\n",
              "CoapplicantIncome    0\n",
              "LoanAmount           0\n",
              "Loan_Amount_Term     0\n",
              "Credit_History       0\n",
              "Property_Area        0\n",
              "Loan_Status          0\n",
              "dtype: int64"
            ]
          },
          "metadata": {
            "tags": []
          },
          "execution_count": 6
        }
      ]
    },
    {
      "cell_type": "code",
      "metadata": {
        "id": "QOnBYzGnglK-",
        "colab": {
          "base_uri": "https://localhost:8080/"
        },
        "outputId": "ef407a7b-c543-4d8f-dd39-9d0e6dbacb46"
      },
      "source": [
        "# checking the data type\n",
        "data.dtypes"
      ],
      "execution_count": 7,
      "outputs": [
        {
          "output_type": "execute_result",
          "data": {
            "text/plain": [
              "Loan_ID               object\n",
              "Gender               float64\n",
              "Married              float64\n",
              "Dependents           float64\n",
              "Education            float64\n",
              "Self_Employed        float64\n",
              "ApplicantIncome      float64\n",
              "CoapplicantIncome    float64\n",
              "LoanAmount           float64\n",
              "Loan_Amount_Term     float64\n",
              "Credit_History       float64\n",
              "Property_Area        float64\n",
              "Loan_Status          float64\n",
              "dtype: object"
            ]
          },
          "metadata": {
            "tags": []
          },
          "execution_count": 7
        }
      ]
    },
    {
      "cell_type": "code",
      "metadata": {
        "id": "TYuwXXuNglLI"
      },
      "source": [
        "# removing the loan_ID since these are just the unique values\n",
        "data = data.drop('Loan_ID', axis=1)"
      ],
      "execution_count": 11,
      "outputs": []
    },
    {
      "cell_type": "code",
      "metadata": {
        "id": "r7XkDkLqglLQ",
        "colab": {
          "base_uri": "https://localhost:8080/"
        },
        "outputId": "32b1196c-57df-4f96-894d-cce916fe4122"
      },
      "source": [
        "# looking at the shape of the data\n",
        "data.shape"
      ],
      "execution_count": 12,
      "outputs": [
        {
          "output_type": "execute_result",
          "data": {
            "text/plain": [
              "(614, 12)"
            ]
          },
          "metadata": {
            "tags": []
          },
          "execution_count": 12
        }
      ]
    },
    {
      "cell_type": "code",
      "metadata": {
        "id": "wy5U75eiglLZ"
      },
      "source": [
        "# separating the independent and dependent variables\n",
        "\n",
        "# storing all the independent variables as X\n",
        "X = data.drop('Loan_Status', axis=1)\n",
        "\n",
        "# storing the dependent variable as y (target)\n",
        "y = data['Loan_Status']"
      ],
      "execution_count": 13,
      "outputs": []
    },
    {
      "cell_type": "code",
      "metadata": {
        "scrolled": true,
        "id": "73Z_cXPVglLi",
        "colab": {
          "base_uri": "https://localhost:8080/"
        },
        "outputId": "6c7c6351-52a2-4a12-e92f-09877f5c13fb"
      },
      "source": [
        "# shape of independent and dependent variables\n",
        "X.shape, y.shape"
      ],
      "execution_count": 14,
      "outputs": [
        {
          "output_type": "execute_result",
          "data": {
            "text/plain": [
              "((614, 11), (614,))"
            ]
          },
          "metadata": {
            "tags": []
          },
          "execution_count": 14
        }
      ]
    },
    {
      "cell_type": "markdown",
      "metadata": {
        "id": "2tIAIoEZglLr"
      },
      "source": [
        "## 2. Creating training and validation set"
      ]
    },
    {
      "cell_type": "code",
      "metadata": {
        "id": "4jvMxwYZglLu"
      },
      "source": [
        "# Creating training and validation set\n",
        "\n",
        "# stratify will make sure that the distribution of classes in train and validation set it similar\n",
        "# random state to regenerate the same train and validation set\n",
        "# test size 0.2 will keep 20% data in validation and remaining 80% in train set\n",
        "\n",
        "X_train,X_test,y_train,y_test = train_test_split(X,y,stratify=data['Loan_Status'],random_state=10,test_size=0.2)"
      ],
      "execution_count": 15,
      "outputs": []
    },
    {
      "cell_type": "code",
      "metadata": {
        "id": "3HG0SIb2glL3",
        "colab": {
          "base_uri": "https://localhost:8080/",
          "height": 34
        },
        "outputId": "f29f1d66-8cce-4561-d3f6-30baaf8922fd"
      },
      "source": [
        "# shape of training and validation set\n",
        "(X_train.shape, y_train.shape), (X_test.shape, y_test.shape)"
      ],
      "execution_count": null,
      "outputs": [
        {
          "output_type": "execute_result",
          "data": {
            "text/plain": [
              "(((491, 11), (491,)), ((123, 11), (123,)))"
            ]
          },
          "metadata": {
            "tags": []
          },
          "execution_count": 13
        }
      ]
    },
    {
      "cell_type": "markdown",
      "metadata": {
        "id": "e9PNy3T1glL_"
      },
      "source": [
        "## 3. Defining the architecture of the model"
      ]
    },
    {
      "cell_type": "code",
      "metadata": {
        "scrolled": true,
        "id": "IsccfqUYglMC",
        "colab": {
          "base_uri": "https://localhost:8080/"
        },
        "outputId": "53d0d660-10ba-46da-8fb1-b88548724267"
      },
      "source": [
        "# checking the version of keras\n",
        "import keras\n",
        "print(keras.__version__)"
      ],
      "execution_count": 16,
      "outputs": [
        {
          "output_type": "stream",
          "text": [
            "2.4.3\n"
          ],
          "name": "stdout"
        }
      ]
    },
    {
      "cell_type": "code",
      "metadata": {
        "id": "XMLvwm5wglMK",
        "colab": {
          "base_uri": "https://localhost:8080/"
        },
        "outputId": "9d5c6a37-1fb4-4416-f731-c5c081958add"
      },
      "source": [
        "# checking the version of tensorflow\n",
        "import tensorflow as tf\n",
        "print(tf.__version__)"
      ],
      "execution_count": 17,
      "outputs": [
        {
          "output_type": "stream",
          "text": [
            "2.4.1\n"
          ],
          "name": "stdout"
        }
      ]
    },
    {
      "cell_type": "markdown",
      "metadata": {
        "id": "LbHAzzxZglMR"
      },
      "source": [
        "### a. Create a model\n",
        "\n",
        "<img src='https://drive.google.com/uc?id=1iZNZ3kwSHRNf-Irn3DZmMuBb6K-Lro7w'>"
      ]
    },
    {
      "cell_type": "code",
      "metadata": {
        "id": "O-Pl7OO8glMT"
      },
      "source": [
        "# importing the sequential model\n",
        "from keras.models import Sequential"
      ],
      "execution_count": 18,
      "outputs": []
    },
    {
      "cell_type": "markdown",
      "metadata": {
        "id": "q6SQ3N1NglMZ"
      },
      "source": [
        "### b. Defining different layers\n",
        "\n",
        "<img src='https://drive.google.com/uc?id=16X6De2hua1XJBe3dfmUUeGTgP6PbXEpc'>"
      ]
    },
    {
      "cell_type": "code",
      "metadata": {
        "scrolled": true,
        "id": "NDU-YCD0glMb"
      },
      "source": [
        "# importing different layers from keras\n",
        "from keras.layers import InputLayer, Dense "
      ],
      "execution_count": 19,
      "outputs": []
    },
    {
      "cell_type": "code",
      "metadata": {
        "id": "xtOwk66BglMl",
        "colab": {
          "base_uri": "https://localhost:8080/"
        },
        "outputId": "80f2c7ed-da86-46e3-b951-b8b6c5119a46"
      },
      "source": [
        "# number of input neurons\n",
        "X_train.shape"
      ],
      "execution_count": 20,
      "outputs": [
        {
          "output_type": "execute_result",
          "data": {
            "text/plain": [
              "(491, 11)"
            ]
          },
          "metadata": {
            "tags": []
          },
          "execution_count": 20
        }
      ]
    },
    {
      "cell_type": "code",
      "metadata": {
        "scrolled": true,
        "id": "dA2TqMbsglMq",
        "colab": {
          "base_uri": "https://localhost:8080/"
        },
        "outputId": "7f2e2397-efc6-4f69-e4fa-04d8465b4e38"
      },
      "source": [
        "# number of features in the data\n",
        "X_train.shape[1]"
      ],
      "execution_count": 21,
      "outputs": [
        {
          "output_type": "execute_result",
          "data": {
            "text/plain": [
              "11"
            ]
          },
          "metadata": {
            "tags": []
          },
          "execution_count": 21
        }
      ]
    },
    {
      "cell_type": "code",
      "metadata": {
        "id": "ajgIDiLSglMx"
      },
      "source": [
        "# defining input neurons\n",
        "input_neurons = X_train.shape[1]"
      ],
      "execution_count": 23,
      "outputs": []
    },
    {
      "cell_type": "code",
      "metadata": {
        "id": "fu76LxuVglM6"
      },
      "source": [
        "# number of output neurons\n",
        "\n",
        "# since loan prediction is a binary classification problem, we will have single neuron in the output layer "
      ],
      "execution_count": null,
      "outputs": []
    },
    {
      "cell_type": "code",
      "metadata": {
        "id": "taMhxkl4glNB"
      },
      "source": [
        "# define number of output neurons\n",
        "output_neurons = 1"
      ],
      "execution_count": 25,
      "outputs": []
    },
    {
      "cell_type": "code",
      "metadata": {
        "id": "cHsm2c7kglNF"
      },
      "source": [
        "# number of hidden layers and hidden neurons\n",
        "\n",
        "# It is a hyperparameter and we can pick the hidden layers and hidden neurons on our own"
      ],
      "execution_count": null,
      "outputs": []
    },
    {
      "cell_type": "code",
      "metadata": {
        "id": "sMqdeXysqztM"
      },
      "source": [
        "# define hidden layers and neuron in each layer\n",
        "number_of_hidden_layers = 2\n",
        "neuron_hidden_layer_1 = 10\n",
        "neuron_hidden_layer_2 = 5"
      ],
      "execution_count": 26,
      "outputs": []
    },
    {
      "cell_type": "code",
      "metadata": {
        "id": "HKTCB3K1glNQ"
      },
      "source": [
        "# activation function of different layers\n",
        "\n",
        "# for now I have picked relu as an activation function for hidden layers, you can change it as well\n",
        "# since it is a binary classification problem, I have used sigmoid activation function in the final layer"
      ],
      "execution_count": null,
      "outputs": []
    },
    {
      "cell_type": "code",
      "metadata": {
        "id": "lJeV8sQyq1rj"
      },
      "source": [
        "# defining the architecture of the model\n",
        "model = Sequential()\n",
        "model.add(InputLayer(input_shape=(input_neurons,)))\n",
        "model.add(Dense(units=neuron_hidden_layer_1, activation='relu'))\n",
        "model.add(Dense(units=neuron_hidden_layer_2, activation='relu'))\n",
        "model.add(Dense(units=output_neurons, activation='sigmoid'))"
      ],
      "execution_count": 27,
      "outputs": []
    },
    {
      "cell_type": "code",
      "metadata": {
        "id": "E9tXg_08q3n0",
        "colab": {
          "base_uri": "https://localhost:8080/"
        },
        "outputId": "01d73aed-cc4d-4f80-c610-534ea465615c"
      },
      "source": [
        "# summary of the model\n",
        "model.summary()"
      ],
      "execution_count": 28,
      "outputs": [
        {
          "output_type": "stream",
          "text": [
            "Model: \"sequential\"\n",
            "_________________________________________________________________\n",
            "Layer (type)                 Output Shape              Param #   \n",
            "=================================================================\n",
            "dense (Dense)                (None, 10)                120       \n",
            "_________________________________________________________________\n",
            "dense_1 (Dense)              (None, 5)                 55        \n",
            "_________________________________________________________________\n",
            "dense_2 (Dense)              (None, 1)                 6         \n",
            "=================================================================\n",
            "Total params: 181\n",
            "Trainable params: 181\n",
            "Non-trainable params: 0\n",
            "_________________________________________________________________\n"
          ],
          "name": "stdout"
        }
      ]
    },
    {
      "cell_type": "code",
      "metadata": {
        "id": "PnsVNEbZglNf",
        "colab": {
          "base_uri": "https://localhost:8080/"
        },
        "outputId": "ab74be58-d71a-4131-81f9-67ffdc434785"
      },
      "source": [
        "# number of parameters between input and first hidden layer\n",
        "\n",
        "input_neurons*neuron_hidden_layer_1"
      ],
      "execution_count": 29,
      "outputs": [
        {
          "output_type": "execute_result",
          "data": {
            "text/plain": [
              "110"
            ]
          },
          "metadata": {
            "tags": []
          },
          "execution_count": 29
        }
      ]
    },
    {
      "cell_type": "code",
      "metadata": {
        "scrolled": true,
        "id": "npisFmvIglNl",
        "colab": {
          "base_uri": "https://localhost:8080/"
        },
        "outputId": "0ad85b3c-515d-4e35-9d83-55bde25384e6"
      },
      "source": [
        "# number of parameters between input and first hidden layer\n",
        "\n",
        "# adding the bias for each neuron of first hidden layer\n",
        "\n",
        "input_neurons*neuron_hidden_layer_1 + 10"
      ],
      "execution_count": 30,
      "outputs": [
        {
          "output_type": "execute_result",
          "data": {
            "text/plain": [
              "120"
            ]
          },
          "metadata": {
            "tags": []
          },
          "execution_count": 30
        }
      ]
    },
    {
      "cell_type": "code",
      "metadata": {
        "id": "j37Xpr-8glNq",
        "colab": {
          "base_uri": "https://localhost:8080/"
        },
        "outputId": "13a0760c-a420-422f-e899-ee8afad96cf3"
      },
      "source": [
        "# number of parameters between first and second hidden layer\n",
        "\n",
        "neuron_hidden_layer_1*neuron_hidden_layer_2 + 5"
      ],
      "execution_count": 31,
      "outputs": [
        {
          "output_type": "execute_result",
          "data": {
            "text/plain": [
              "55"
            ]
          },
          "metadata": {
            "tags": []
          },
          "execution_count": 31
        }
      ]
    },
    {
      "cell_type": "code",
      "metadata": {
        "id": "UXrvaFnXglNu",
        "colab": {
          "base_uri": "https://localhost:8080/"
        },
        "outputId": "acecc1b3-27be-42fb-b68a-6b9b98a15a8c"
      },
      "source": [
        "# number of parameters between second hidden and output layer\n",
        "\n",
        "neuron_hidden_layer_2*output_neurons + 1"
      ],
      "execution_count": 32,
      "outputs": [
        {
          "output_type": "execute_result",
          "data": {
            "text/plain": [
              "6"
            ]
          },
          "metadata": {
            "tags": []
          },
          "execution_count": 32
        }
      ]
    },
    {
      "cell_type": "markdown",
      "metadata": {
        "id": "xm1bbbE_glNz"
      },
      "source": [
        "## 4. Compiling the model (defining loss function, optimizer)"
      ]
    },
    {
      "cell_type": "code",
      "metadata": {
        "id": "P6hqkDWIglN0"
      },
      "source": [
        "# compiling the model\n",
        "\n",
        "# loss as binary_crossentropy, since we have binary classification problem\n",
        "# defining the optimizer as adam\n",
        "# Evaluation metric as accuracy\n",
        "\n",
        "model.compile(loss='binary_crossentropy',optimizer='Adam',metrics=['accuracy'])"
      ],
      "execution_count": 33,
      "outputs": []
    },
    {
      "cell_type": "markdown",
      "metadata": {
        "id": "T1oVMpRMglN5"
      },
      "source": [
        "## 5. Training the model"
      ]
    },
    {
      "cell_type": "code",
      "metadata": {
        "id": "pViJI3-TglN6",
        "colab": {
          "base_uri": "https://localhost:8080/"
        },
        "outputId": "0164d2a5-8e14-4b61-8ffa-6cdb30892b33"
      },
      "source": [
        "# training the model\n",
        "\n",
        "# passing the independent and dependent features for training set for training the model\n",
        "\n",
        "# validation data will be evaluated at the end of each epoch\n",
        "\n",
        "# setting the epochs as 50\n",
        "\n",
        "# storing the trained model in model_history variable which will be used to visualize the training process\n",
        "\n",
        "model_history = model.fit(X_train, y_train, validation_data=(X_test, y_test), epochs=50)"
      ],
      "execution_count": 34,
      "outputs": [
        {
          "output_type": "stream",
          "text": [
            "Epoch 1/50\n",
            "16/16 [==============================] - 4s 23ms/step - loss: 0.6980 - accuracy: 0.4752 - val_loss: 0.6574 - val_accuracy: 0.6748\n",
            "Epoch 2/50\n",
            "16/16 [==============================] - 0s 4ms/step - loss: 0.6566 - accuracy: 0.6166 - val_loss: 0.6191 - val_accuracy: 0.7561\n",
            "Epoch 3/50\n",
            "16/16 [==============================] - 0s 4ms/step - loss: 0.6216 - accuracy: 0.7235 - val_loss: 0.5846 - val_accuracy: 0.7480\n",
            "Epoch 4/50\n",
            "16/16 [==============================] - 0s 4ms/step - loss: 0.5992 - accuracy: 0.7071 - val_loss: 0.5681 - val_accuracy: 0.7480\n",
            "Epoch 5/50\n",
            "16/16 [==============================] - 0s 4ms/step - loss: 0.5587 - accuracy: 0.7359 - val_loss: 0.5613 - val_accuracy: 0.7398\n",
            "Epoch 6/50\n",
            "16/16 [==============================] - 0s 4ms/step - loss: 0.5368 - accuracy: 0.7411 - val_loss: 0.5575 - val_accuracy: 0.7480\n",
            "Epoch 7/50\n",
            "16/16 [==============================] - 0s 4ms/step - loss: 0.5700 - accuracy: 0.7209 - val_loss: 0.5541 - val_accuracy: 0.7480\n",
            "Epoch 8/50\n",
            "16/16 [==============================] - 0s 4ms/step - loss: 0.5631 - accuracy: 0.7118 - val_loss: 0.5512 - val_accuracy: 0.7480\n",
            "Epoch 9/50\n",
            "16/16 [==============================] - 0s 4ms/step - loss: 0.5293 - accuracy: 0.7520 - val_loss: 0.5475 - val_accuracy: 0.7480\n",
            "Epoch 10/50\n",
            "16/16 [==============================] - 0s 4ms/step - loss: 0.5280 - accuracy: 0.7471 - val_loss: 0.5440 - val_accuracy: 0.7724\n",
            "Epoch 11/50\n",
            "16/16 [==============================] - 0s 4ms/step - loss: 0.5431 - accuracy: 0.7542 - val_loss: 0.5406 - val_accuracy: 0.7724\n",
            "Epoch 12/50\n",
            "16/16 [==============================] - 0s 4ms/step - loss: 0.5538 - accuracy: 0.7445 - val_loss: 0.5375 - val_accuracy: 0.7724\n",
            "Epoch 13/50\n",
            "16/16 [==============================] - 0s 4ms/step - loss: 0.5362 - accuracy: 0.7832 - val_loss: 0.5344 - val_accuracy: 0.7724\n",
            "Epoch 14/50\n",
            "16/16 [==============================] - 0s 4ms/step - loss: 0.5267 - accuracy: 0.7788 - val_loss: 0.5311 - val_accuracy: 0.7805\n",
            "Epoch 15/50\n",
            "16/16 [==============================] - 0s 4ms/step - loss: 0.5237 - accuracy: 0.7838 - val_loss: 0.5279 - val_accuracy: 0.7805\n",
            "Epoch 16/50\n",
            "16/16 [==============================] - 0s 4ms/step - loss: 0.5260 - accuracy: 0.7836 - val_loss: 0.5240 - val_accuracy: 0.7805\n",
            "Epoch 17/50\n",
            "16/16 [==============================] - 0s 4ms/step - loss: 0.5306 - accuracy: 0.7895 - val_loss: 0.5202 - val_accuracy: 0.7805\n",
            "Epoch 18/50\n",
            "16/16 [==============================] - 0s 4ms/step - loss: 0.5226 - accuracy: 0.7973 - val_loss: 0.5169 - val_accuracy: 0.7805\n",
            "Epoch 19/50\n",
            "16/16 [==============================] - 0s 4ms/step - loss: 0.5034 - accuracy: 0.8118 - val_loss: 0.5142 - val_accuracy: 0.7886\n",
            "Epoch 20/50\n",
            "16/16 [==============================] - 0s 4ms/step - loss: 0.5293 - accuracy: 0.7883 - val_loss: 0.5108 - val_accuracy: 0.7886\n",
            "Epoch 21/50\n",
            "16/16 [==============================] - 0s 4ms/step - loss: 0.5583 - accuracy: 0.7665 - val_loss: 0.5072 - val_accuracy: 0.7967\n",
            "Epoch 22/50\n",
            "16/16 [==============================] - 0s 4ms/step - loss: 0.4700 - accuracy: 0.8346 - val_loss: 0.5049 - val_accuracy: 0.7967\n",
            "Epoch 23/50\n",
            "16/16 [==============================] - 0s 4ms/step - loss: 0.5118 - accuracy: 0.8028 - val_loss: 0.5022 - val_accuracy: 0.8049\n",
            "Epoch 24/50\n",
            "16/16 [==============================] - 0s 4ms/step - loss: 0.4809 - accuracy: 0.8187 - val_loss: 0.4996 - val_accuracy: 0.8130\n",
            "Epoch 25/50\n",
            "16/16 [==============================] - 0s 4ms/step - loss: 0.4749 - accuracy: 0.8246 - val_loss: 0.4961 - val_accuracy: 0.8130\n",
            "Epoch 26/50\n",
            "16/16 [==============================] - 0s 4ms/step - loss: 0.4986 - accuracy: 0.8078 - val_loss: 0.4936 - val_accuracy: 0.8130\n",
            "Epoch 27/50\n",
            "16/16 [==============================] - 0s 4ms/step - loss: 0.5046 - accuracy: 0.7981 - val_loss: 0.4912 - val_accuracy: 0.8130\n",
            "Epoch 28/50\n",
            "16/16 [==============================] - 0s 4ms/step - loss: 0.4969 - accuracy: 0.8016 - val_loss: 0.4891 - val_accuracy: 0.8130\n",
            "Epoch 29/50\n",
            "16/16 [==============================] - 0s 5ms/step - loss: 0.4700 - accuracy: 0.8159 - val_loss: 0.4871 - val_accuracy: 0.8130\n",
            "Epoch 30/50\n",
            "16/16 [==============================] - 0s 4ms/step - loss: 0.4770 - accuracy: 0.8076 - val_loss: 0.4854 - val_accuracy: 0.8130\n",
            "Epoch 31/50\n",
            "16/16 [==============================] - 0s 4ms/step - loss: 0.4661 - accuracy: 0.8271 - val_loss: 0.4840 - val_accuracy: 0.8130\n",
            "Epoch 32/50\n",
            "16/16 [==============================] - 0s 4ms/step - loss: 0.4736 - accuracy: 0.8102 - val_loss: 0.4823 - val_accuracy: 0.8130\n",
            "Epoch 33/50\n",
            "16/16 [==============================] - 0s 4ms/step - loss: 0.4988 - accuracy: 0.7939 - val_loss: 0.4811 - val_accuracy: 0.8130\n",
            "Epoch 34/50\n",
            "16/16 [==============================] - 0s 4ms/step - loss: 0.4921 - accuracy: 0.8010 - val_loss: 0.4797 - val_accuracy: 0.8130\n",
            "Epoch 35/50\n",
            "16/16 [==============================] - 0s 4ms/step - loss: 0.4627 - accuracy: 0.8197 - val_loss: 0.4787 - val_accuracy: 0.8130\n",
            "Epoch 36/50\n",
            "16/16 [==============================] - 0s 4ms/step - loss: 0.4697 - accuracy: 0.8087 - val_loss: 0.4776 - val_accuracy: 0.8130\n",
            "Epoch 37/50\n",
            "16/16 [==============================] - 0s 4ms/step - loss: 0.5108 - accuracy: 0.7743 - val_loss: 0.4762 - val_accuracy: 0.8130\n",
            "Epoch 38/50\n",
            "16/16 [==============================] - 0s 4ms/step - loss: 0.4727 - accuracy: 0.8083 - val_loss: 0.4757 - val_accuracy: 0.8130\n",
            "Epoch 39/50\n",
            "16/16 [==============================] - 0s 5ms/step - loss: 0.4924 - accuracy: 0.7954 - val_loss: 0.4751 - val_accuracy: 0.8130\n",
            "Epoch 40/50\n",
            "16/16 [==============================] - 0s 4ms/step - loss: 0.4799 - accuracy: 0.7987 - val_loss: 0.4743 - val_accuracy: 0.8130\n",
            "Epoch 41/50\n",
            "16/16 [==============================] - 0s 4ms/step - loss: 0.4505 - accuracy: 0.8162 - val_loss: 0.4730 - val_accuracy: 0.8130\n",
            "Epoch 42/50\n",
            "16/16 [==============================] - 0s 4ms/step - loss: 0.4935 - accuracy: 0.7928 - val_loss: 0.4723 - val_accuracy: 0.8130\n",
            "Epoch 43/50\n",
            "16/16 [==============================] - 0s 4ms/step - loss: 0.4592 - accuracy: 0.8128 - val_loss: 0.4729 - val_accuracy: 0.8130\n",
            "Epoch 44/50\n",
            "16/16 [==============================] - 0s 4ms/step - loss: 0.4777 - accuracy: 0.7942 - val_loss: 0.4721 - val_accuracy: 0.8130\n",
            "Epoch 45/50\n",
            "16/16 [==============================] - 0s 4ms/step - loss: 0.4370 - accuracy: 0.8334 - val_loss: 0.4714 - val_accuracy: 0.8130\n",
            "Epoch 46/50\n",
            "16/16 [==============================] - 0s 4ms/step - loss: 0.4476 - accuracy: 0.8201 - val_loss: 0.4704 - val_accuracy: 0.8130\n",
            "Epoch 47/50\n",
            "16/16 [==============================] - 0s 4ms/step - loss: 0.4574 - accuracy: 0.8131 - val_loss: 0.4713 - val_accuracy: 0.8130\n",
            "Epoch 48/50\n",
            "16/16 [==============================] - 0s 4ms/step - loss: 0.4799 - accuracy: 0.7926 - val_loss: 0.4708 - val_accuracy: 0.8130\n",
            "Epoch 49/50\n",
            "16/16 [==============================] - 0s 4ms/step - loss: 0.4332 - accuracy: 0.8255 - val_loss: 0.4696 - val_accuracy: 0.8130\n",
            "Epoch 50/50\n",
            "16/16 [==============================] - 0s 4ms/step - loss: 0.4539 - accuracy: 0.8148 - val_loss: 0.4692 - val_accuracy: 0.8130\n"
          ],
          "name": "stdout"
        }
      ]
    },
    {
      "cell_type": "markdown",
      "metadata": {
        "id": "hBZ_3aumglN9"
      },
      "source": [
        "## 6. Evaluating model performance on validation set"
      ]
    },
    {
      "cell_type": "code",
      "metadata": {
        "id": "qpBoHi7jglN_",
        "colab": {
          "base_uri": "https://localhost:8080/"
        },
        "outputId": "88e59ab3-20fc-4716-e9bc-b167e3201f9f"
      },
      "source": [
        "# getting predictions for the validation set\n",
        "prediction = model.predict_classes(X_test)"
      ],
      "execution_count": 35,
      "outputs": [
        {
          "output_type": "stream",
          "text": [
            "/usr/local/lib/python3.7/dist-packages/tensorflow/python/keras/engine/sequential.py:450: UserWarning: `model.predict_classes()` is deprecated and will be removed after 2021-01-01. Please use instead:* `np.argmax(model.predict(x), axis=-1)`,   if your model does multi-class classification   (e.g. if it uses a `softmax` last-layer activation).* `(model.predict(x) > 0.5).astype(\"int32\")`,   if your model does binary classification   (e.g. if it uses a `sigmoid` last-layer activation).\n",
            "  warnings.warn('`model.predict_classes()` is deprecated and '\n"
          ],
          "name": "stderr"
        }
      ]
    },
    {
      "cell_type": "code",
      "metadata": {
        "id": "jMapdscmglOD",
        "colab": {
          "base_uri": "https://localhost:8080/"
        },
        "outputId": "78dad7dd-f63d-4369-dbe8-c65b03da44db"
      },
      "source": [
        "# calculating the accuracy on validation set\n",
        "accuracy_score(y_test, prediction)"
      ],
      "execution_count": 36,
      "outputs": [
        {
          "output_type": "execute_result",
          "data": {
            "text/plain": [
              "0.8130081300813008"
            ]
          },
          "metadata": {
            "tags": []
          },
          "execution_count": 36
        }
      ]
    },
    {
      "cell_type": "markdown",
      "metadata": {
        "id": "rLvGzvLcglOH"
      },
      "source": [
        "### Visualizing the model performance"
      ]
    },
    {
      "cell_type": "code",
      "metadata": {
        "id": "68APv0UuglOI",
        "colab": {
          "base_uri": "https://localhost:8080/",
          "height": 295
        },
        "outputId": "36e1a09d-daaf-4585-9efa-74e103ad4ee5"
      },
      "source": [
        "# summarize history for loss\n",
        "plt.plot(model_history.history['loss'])\n",
        "plt.plot(model_history.history['val_loss'])\n",
        "plt.title('model loss')\n",
        "plt.ylabel('loss')\n",
        "plt.xlabel('epoch')\n",
        "plt.legend(['train', 'validation'], loc='upper left')\n",
        "plt.show()"
      ],
      "execution_count": 37,
      "outputs": [
        {
          "output_type": "display_data",
          "data": {
            "image/png": "[encoded data removed]",
            "text/plain": [
              "<Figure size 432x288 with 1 Axes>"
            ]
          },
          "metadata": {
            "tags": [],
            "needs_background": "light"
          }
        }
      ]
    },
    {
      "cell_type": "code",
      "metadata": {
        "id": "AiKe0wBbglOM",
        "colab": {
          "base_uri": "https://localhost:8080/",
          "height": 295
        },
        "outputId": "3d5c5d2b-f214-49aa-bdea-3014998debd4"
      },
      "source": [
        "# summarize history for accuracy\n",
        "plt.plot(model_history.history['accuracy'])\n",
        "plt.plot(model_history.history['val_accuracy'])\n",
        "plt.title('model accuracy')\n",
        "plt.ylabel('accuracy')\n",
        "plt.xlabel('epoch')\n",
        "plt.legend(['train', 'validation'], loc='upper left')\n",
        "plt.show()"
      ],
      "execution_count": 39,
      "outputs": [
        {
          "output_type": "display_data",
          "data": {
            "image/png": "[encoded data removed]",
            "text/plain": [
              "<Figure size 432x288 with 1 Axes>"
            ]
          },
          "metadata": {
            "tags": [],
            "needs_background": "light"
          }
        }
      ]
    }
  ]
}